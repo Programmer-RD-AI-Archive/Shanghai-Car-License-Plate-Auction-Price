{
 "cells": [
  {
   "cell_type": "code",
   "execution_count": 1,
   "id": "dcd5ea4f",
   "metadata": {},
   "outputs": [
    {
     "name": "stdout",
     "output_type": "stream",
     "text": [
      "<torch._C.Generator at 0x7f1ffc4479b0>"
     ]
    }
   ],
   "source": [
    "import random\n",
    "import seaborn as sns\n",
    "import pandas as pd\n",
    "import numpy as np\n",
    "import matplotlib.pyplot as plt\n",
    "import sklearn\n",
    "import torch,torchvision\n",
    "from torch.nn import *\n",
    "from tqdm import tqdm\n",
    "import cv2\n",
    "from torch.optim import *\n",
    "# Preproccessing\n",
    "from sklearn.preprocessing import (\n",
    "    StandardScaler,\n",
    "    RobustScaler,\n",
    "    MinMaxScaler,\n",
    "    MaxAbsScaler,\n",
    "    OneHotEncoder,\n",
    "    Normalizer,\n",
    "    Binarizer\n",
    ")\n",
    "# Decomposition\n",
    "from sklearn.decomposition import PCA\n",
    "from sklearn.decomposition import KernelPCA\n",
    "# Feature Selection\n",
    "from sklearn.feature_selection import VarianceThreshold\n",
    "from sklearn.feature_selection import SelectKBest\n",
    "from sklearn.feature_selection import RFECV\n",
    "from sklearn.feature_selection import SelectFromModel\n",
    "# Model Eval\n",
    "from sklearn.compose import make_column_transformer\n",
    "from sklearn.model_selection import GridSearchCV\n",
    "from sklearn.model_selection import cross_val_score,train_test_split\n",
    "from sklearn.metrics import mean_absolute_error,mean_squared_error\n",
    "# Other\n",
    "import pickle\n",
    "import wandb\n",
    "\n",
    "PROJECT_NAME = 'Shanghai-Car-License-Plate-Auction-Price'\n",
    "device = 'cuda:0'\n",
    "np.random.seed(21)\n",
    "random.seed(21)\n",
    "torch.manual_seed(21)"
   ]
  },
  {
   "cell_type": "code",
   "execution_count": 2,
   "id": "61f40d72",
   "metadata": {},
   "outputs": [],
   "source": [
    "data = pd.read_csv('./data.csv')"
   ]
  },
  {
   "cell_type": "code",
   "execution_count": 3,
   "id": "dc8d8352",
   "metadata": {},
   "outputs": [],
   "source": [
    "data = data['avg price']"
   ]
  },
  {
   "cell_type": "code",
   "execution_count": 4,
   "id": "3fb62dd7",
   "metadata": {},
   "outputs": [],
   "source": [
    "data.to_csv('./Cleaned-Data.csv')"
   ]
  },
  {
   "cell_type": "code",
   "execution_count": 5,
   "id": "62ba50d6",
   "metadata": {},
   "outputs": [],
   "source": [
    "data = torch.from_numpy(np.array(data.tolist())).view(1,-1).to(device).float()"
   ]
  },
  {
   "cell_type": "code",
   "execution_count": 6,
   "id": "6a6c0fc1",
   "metadata": {},
   "outputs": [],
   "source": [
    "data_input = data[:1,:-1]\n",
    "data_target = data[:1,1:]"
   ]
  },
  {
   "cell_type": "code",
   "execution_count": 7,
   "id": "d47c5070",
   "metadata": {},
   "outputs": [],
   "source": [
    "class Model(Module):\n",
    "    def __init__(self):\n",
    "        super().__init__()\n",
    "        self.hidden = 512\n",
    "        self.lstm1 = LSTMCell(1,self.hidden)\n",
    "        self.lstm2 = LSTMCell(self.hidden,self.hidden)\n",
    "        self.lstm3 = LSTMCell(self.hidden,self.hidden)\n",
    "        self.linear = Linear(self.hidden,1)\n",
    "    \n",
    "    def forward(self,X,future=0):\n",
    "        preds = []\n",
    "        batch_size = X.size(0)\n",
    "        h_t1,c_t1 = torch.zeros(batch_size,self.hidden).to(device),torch.zeros(batch_size,self.hidden).to(device)\n",
    "        h_t2,c_t2 = torch.zeros(batch_size,self.hidden).to(device),torch.zeros(batch_size,self.hidden).to(device)\n",
    "        h_t3,c_t3 = torch.zeros(batch_size,self.hidden).to(device),torch.zeros(batch_size,self.hidden).to(device)\n",
    "        for X_batch in X.split(1,dim=1):\n",
    "            X_batch = X_batch.to(device)\n",
    "            h_t1,c_t1 = self.lstm1(X_batch,(h_t1,c_t1))\n",
    "            h_t1,c_t1 = h_t1.to(device),c_t1.to(device)\n",
    "            h_t2,c_t2 = self.lstm2(h_t1,(h_t2,c_t2))\n",
    "            h_t2,c_t2 = h_t2.to(device),c_t2.to(device)\n",
    "            h_t3,c_t3 = self.lstm3(h_t2,(h_t3,c_t3))\n",
    "            h_t3,c_t3 = h_t3.to(device),c_t3.to(device)\n",
    "            pred = self.linear(h_t3)\n",
    "            preds.append(pred)\n",
    "        for _ in range(future):\n",
    "            X_batch = X_batch.to(device)\n",
    "            h_t1,c_t1 = self.lstm1(X_batch,(h_t1,c_t1))\n",
    "            h_t1,c_t1 = h_t1.to(device),c_t1.to(device)\n",
    "            h_t2,c_t2 = self.lstm2(h_t1,(h_t2,c_t2))\n",
    "            h_t2,c_t2 = h_t2.to(device),c_t2.to(device)\n",
    "            h_t3,c_t3 = self.lstm3(h_t2,(h_t3,c_t3))\n",
    "            h_t3,c_t3 = h_t3.to(device),c_t3.to(device)\n",
    "            pred = self.linear(h_t3)\n",
    "            preds.append(pred)\n",
    "        preds = torch.cat(preds,dim=1)\n",
    "        return preds"
   ]
  },
  {
   "cell_type": "code",
   "execution_count": 8,
   "id": "ba4c359d",
   "metadata": {},
   "outputs": [],
   "source": [
    "model = Model().to(device)"
   ]
  },
  {
   "cell_type": "code",
   "execution_count": 9,
   "id": "efa448d2",
   "metadata": {},
   "outputs": [],
   "source": [
    "criterion = MSELoss()"
   ]
  },
  {
   "cell_type": "code",
   "execution_count": 10,
   "id": "231ffdc8",
   "metadata": {},
   "outputs": [],
   "source": [
    "optimizer = LBFGS(model.parameters(),lr=0.8)"
   ]
  },
  {
   "cell_type": "code",
   "execution_count": 11,
   "id": "113da452",
   "metadata": {},
   "outputs": [],
   "source": [
    "epochs = 100"
   ]
  },
  {
   "cell_type": "code",
   "execution_count": 12,
   "id": "604e5220",
   "metadata": {},
   "outputs": [
    {
     "data": {
      "text/html": [
       "\n",
       "                Tracking run with wandb version 0.12.1<br/>\n",
       "                Syncing run <strong style=\"color:#cdcd00\">baseline</strong> to <a href=\"https://wandb.ai\" target=\"_blank\">Weights & Biases</a> <a href=\"https://docs.wandb.com/integrations/jupyter.html\" target=\"_blank\">(Documentation)</a>.<br/>\n",
       "                Project page: <a href=\"https://wandb.ai/ranuga-d/Shanghai-Car-License-Plate-Auction-Price\" target=\"_blank\">https://wandb.ai/ranuga-d/Shanghai-Car-License-Plate-Auction-Price</a><br/>\n",
       "                Run page: <a href=\"https://wandb.ai/ranuga-d/Shanghai-Car-License-Plate-Auction-Price/runs/3443j690\" target=\"_blank\">https://wandb.ai/ranuga-d/Shanghai-Car-License-Plate-Auction-Price/runs/3443j690</a><br/>\n",
       "                Run data is saved locally in <code>/home/indika/Programming/Projects/Python/Artifical-Intelligence/PyTorch/RNN/Shanghai-Car-License-Plate-Auction-Price/wandb/run-20210924_094753-3443j690</code><br/><br/>\n",
       "            "
      ],
      "text/plain": [
       "<IPython.core.display.HTML object>"
      ]
     },
     "metadata": {},
     "output_type": "display_data"
    }
   ],
   "source": [
    "wandb.init(project=PROJECT_NAME,name='baseline')\n",
    "for _ in tqdm(range(epochs)):\n",
    "    def closure():\n",
    "        optimizer.zero_grad()\n",
    "        preds = model(data_input)\n",
    "        loss = criterion(preds,data_target)\n",
    "        loss.backward()\n",
    "        wandb.log({'Loss':loss.item()})\n",
    "        return loss\n",
    "    optimizer.step(closure)\n",
    "    with torch.no_grad():\n",
    "        future = 10\n",
    "        n = data_input.shape[1]\n",
    "        preds = model(data_input,future)\n",
    "        loss = criterion(preds[:,:-future],data_target)\n",
    "        wandb.log({'Val Loss':loss.item()})\n",
    "        preds = preds[0].view(-1).cpu().detach().numpy()\n",
    "        plt.figure(figsize=(12,7))\n",
    "        plt.plot(np.arange(n),data_target.view(-1).cpu().detach().numpy(),'r')\n",
    "        plt.plot(np.arange(n,n+future),preds[n:],'b','-')\n",
    "        plt.savefig('./img.png')\n",
    "        plt.close()\n",
    "        wandb.log({'Img':wandb.Image(cv2.imread('./img.png'))})\n",
    "wandb.finish()"
   ]
  }
 ],
 "metadata": {
  "kernelspec": {
   "display_name": "Python 3",
   "language": "python",
   "name": "python3"
  },
  "language_info": {
   "codemirror_mode": {
    "name": "ipython",
    "version": 3
   },
   "file_extension": ".py",
   "mimetype": "text/x-python",
   "name": "python",
   "nbconvert_exporter": "python",
   "pygments_lexer": "ipython3",
   "version": "3.7.11"
  }
 },
 "nbformat": 4,
 "nbformat_minor": 5
}
